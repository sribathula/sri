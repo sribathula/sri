{
 "cells": [
  {
   "cell_type": "markdown",
   "metadata": {},
   "source": [
    "### Tuples\n",
    "* t1=( )\n",
    "* li=[ ]\n",
    "* Differnece between lists and tuples\n",
    "* lists are mutable-can be changed/modified\n",
    "- Used to Acess,modify,Add,Delete data\n",
    "* Tuples are immutable-cannot be changed once initialised\n",
    "- Used to access data only\n",
    "- All slicing work"
   ]
  },
  {
   "cell_type": "code",
   "execution_count": 8,
   "metadata": {},
   "outputs": [
    {
     "data": {
      "text/plain": [
       "tuple"
      ]
     },
     "execution_count": 8,
     "metadata": {},
     "output_type": "execute_result"
    }
   ],
   "source": [
    "t1=(1,2,8,6,0)\n",
    "t1[3] #Accessing the fourth element\n",
    "t1[len(t1)//2:] #Accessing all elements from middle to last\n",
    "type(t1)"
   ]
  },
  {
   "cell_type": "markdown",
   "metadata": {},
   "source": [
    "### Dictionaries\n",
    "* It works on the concept of set\n",
    "* Unique Data\n",
    "\n",
    "* Keys,Values\n",
    "* Key is the unique identifier for a value\n",
    "* Value is data that can be accessed with a key\n",
    "* Dictionares are mutable\n"
   ]
  },
  {
   "cell_type": "code",
   "execution_count": 5,
   "metadata": {},
   "outputs": [
    {
     "data": {
      "text/plain": [
       "{'k1': 'value'}"
      ]
     },
     "execution_count": 5,
     "metadata": {},
     "output_type": "execute_result"
    }
   ],
   "source": [
    "d1={\"k1\":\"value1\",\"k2\":\"value2\"}\n",
    "d1[\"k2\"] #Accessing the values with key \"k2\"\n",
    "d1.keys() #returns list of all keys\n",
    "d1.values() #returns list of all values\n",
    "d1.items() #returns list of tuples of keys and values\n",
    "d1[\"k2\"]=\"value2\"\n",
    "d1[\"k2\"]=\"value4\"\n",
    "d1.pop(\"k2\") #removing an element from dictionary\n",
    "d1\n"
   ]
  },
  {
   "cell_type": "markdown",
   "metadata": {},
   "source": [
    "# contacts Application\n",
    "- Add Contact\n",
    "- Search for contact\n",
    "- List all contacts\n",
    "    - name1:phone1\n",
    "    - name2:phone2\n",
    "- Modify contact\n",
    "- Remove contact"
   ]
  },
  {
   "cell_type": "code",
   "execution_count": 46,
   "metadata": {},
   "outputs": [
    {
     "name": "stdout",
     "output_type": "stream",
     "text": [
      "Contact name1 added\n"
     ]
    }
   ],
   "source": [
    "contacts={}\n",
    "def addContacts(name,phone):\n",
    "    #verify that the contact doesnot already exists\n",
    "    if name not in contacts:\n",
    "        contacts[name]=phone\n",
    "        print(\"Contact %s added\"% name)\n",
    "    else:\n",
    "        print(\"Contact %s already exists\"% name)\n",
    "    return\n",
    "addContacts(\"name1\",\"7989101588\")"
   ]
  },
  {
   "cell_type": "code",
   "execution_count": 49,
   "metadata": {},
   "outputs": [
    {
     "data": {
      "text/plain": [
       "True"
      ]
     },
     "execution_count": 49,
     "metadata": {},
     "output_type": "execute_result"
    }
   ],
   "source": [
    "def searchContacts(name):\n",
    "    if name in contacts:\n",
    "        return True\n",
    "        print(name,\":\",contacts[name])\n",
    "    else:\n",
    "        print(\"%s does not exist\" % name)\n",
    "    return False\n",
    "searchContacts(\"name1\")"
   ]
  },
  {
   "cell_type": "code",
   "execution_count": 51,
   "metadata": {},
   "outputs": [
    {
     "name": "stdout",
     "output_type": "stream",
     "text": [
      "2 added success\n"
     ]
    }
   ],
   "source": [
    "#New contacts is given as a dictionary\n",
    "#Merge new contacts with existing contacts\n",
    "def importContacts(newContacts):\n",
    "    contacts.update(newContacts)\n",
    "    print(len(newContacts.keys()),\"added success\")\n",
    "    return\n",
    "newContacts={\"name2\":8907654312,\"name3\":123456789}\n",
    "importContacts(newContacts)"
   ]
  },
  {
   "cell_type": "code",
   "execution_count": 53,
   "metadata": {},
   "outputs": [
    {
     "name": "stdout",
     "output_type": "stream",
     "text": [
      "contact is modified with number 2345678990\n"
     ]
    }
   ],
   "source": [
    "def modifyContacts(name1,phonenumber):\n",
    "    if searchContacts(name1):\n",
    "        if True:\n",
    "            contacts[name1]=phonenumber\n",
    "            print(\"contact is modified with number\",phonenumber)\n",
    "        else:\n",
    "            addcontacts(name1,phonenumber)\n",
    "            print(name1,phonenumber)\n",
    "modifyContacts(\"name1\",\"2345678990\")"
   ]
  },
  {
   "cell_type": "code",
   "execution_count": 55,
   "metadata": {},
   "outputs": [
    {
     "name": "stdout",
     "output_type": "stream",
     "text": [
      "contact is removed 2345678990\n"
     ]
    }
   ],
   "source": [
    "def removeContacts(name1,phonenumber):\n",
    "    if searchContacts(name1):\n",
    "        if True:\n",
    "            contacts.pop(\"name1\")\n",
    "            print(\"contact is removed\",phonenumber)\n",
    "        else:\n",
    "            addcontacts(name1,phonenumber)\n",
    "            print(name1,phonenumber)\n",
    "removeContacts(\"name1\",\"2345678990\")"
   ]
  },
  {
   "cell_type": "code",
   "execution_count": 57,
   "metadata": {},
   "outputs": [
    {
     "name": "stdout",
     "output_type": "stream",
     "text": [
      "name2 : 8907654312\n",
      "name3 : 123456789\n"
     ]
    }
   ],
   "source": [
    "def listcontacts():\n",
    "    for i in contacts:\n",
    "        print(i,\":\",contacts[i])\n",
    "listcontacts()"
   ]
  },
  {
   "cell_type": "markdown",
   "metadata": {},
   "source": [
    "### Packages and Modules\n",
    " **Package**->collections of modules(Python File.py) and subpackages\n",
    " \n",
    " \n",
    " **Sub Package**->\n",
    " \n",
    " \n",
    " **Modules**->A single python file containing functions\n",
    " \n",
    " \n",
    " package->subpackage->modules->functions"
   ]
  },
  {
   "cell_type": "code",
   "execution_count": 5,
   "metadata": {},
   "outputs": [
    {
     "name": "stdout",
     "output_type": "stream",
     "text": [
      "123\n",
      "3.141592653589793\n"
     ]
    }
   ],
   "source": [
    "from math import floor,pi\n",
    "print(floor(123.456))\n",
    "print(pi)\n"
   ]
  },
  {
   "cell_type": "code",
   "execution_count": 6,
   "metadata": {},
   "outputs": [
    {
     "data": {
      "text/plain": [
       "123"
      ]
     },
     "execution_count": 6,
     "metadata": {},
     "output_type": "execute_result"
    }
   ],
   "source": [
    "from math import floor as fl\n",
    "floor(123.456)"
   ]
  },
  {
   "cell_type": "code",
   "execution_count": 37,
   "metadata": {},
   "outputs": [
    {
     "name": "stdout",
     "output_type": "stream",
     "text": [
      "10 77 20 23 83 32 1 89 48 37 "
     ]
    }
   ],
   "source": [
    "#Function to generate N random numbers\n",
    "import random\n",
    "def generateNRandomNumbers(n,lb,ub):\n",
    "    for i in range(0,n):\n",
    "          print(random.randint(lb,ub),end=\" \")\n",
    "generateNRandomNumbers(10,0,100)\n"
   ]
  },
  {
   "cell_type": "code",
   "execution_count": 1,
   "metadata": {},
   "outputs": [
    {
     "data": {
      "text/plain": [
       "True"
      ]
     },
     "execution_count": 1,
     "metadata": {},
     "output_type": "execute_result"
    }
   ],
   "source": [
    "from Packages import numerical \n",
    "numerical.isPrime(3)"
   ]
  },
  {
   "cell_type": "code",
   "execution_count": 2,
   "metadata": {},
   "outputs": [
    {
     "data": {
      "text/plain": [
       "5779.125"
      ]
     },
     "execution_count": 2,
     "metadata": {},
     "output_type": "execute_result"
    }
   ],
   "source": [
    "from Packages import numerical \n",
    "numerical.avgfactorial(8)"
   ]
  }
 ],
 "metadata": {
  "kernelspec": {
   "display_name": "Python 3",
   "language": "python",
   "name": "python3"
  },
  "language_info": {
   "codemirror_mode": {
    "name": "ipython",
    "version": 3
   },
   "file_extension": ".py",
   "mimetype": "text/x-python",
   "name": "python",
   "nbconvert_exporter": "python",
   "pygments_lexer": "ipython3",
   "version": "3.7.3"
  }
 },
 "nbformat": 4,
 "nbformat_minor": 2
}
