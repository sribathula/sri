{
 "cells": [
  {
   "cell_type": "markdown",
   "metadata": {},
   "source": [
    "### Numpy Library\n",
    "\n",
    "- It is used for processing N-Dimensional array"
   ]
  },
  {
   "cell_type": "code",
   "execution_count": 4,
   "metadata": {},
   "outputs": [
    {
     "data": {
      "text/plain": [
       "array([ 0,  1,  2,  3,  4,  5,  6,  7,  8,  9, 10, 11, 12, 13, 14])"
      ]
     },
     "execution_count": 4,
     "metadata": {},
     "output_type": "execute_result"
    }
   ],
   "source": [
    "import numpy as np\n",
    "li=[1,2,3,'z']\n",
    "a=np.array(li)\n",
    "b=np.arange(15)\n",
    "b"
   ]
  },
  {
   "cell_type": "code",
   "execution_count": 9,
   "metadata": {},
   "outputs": [
    {
     "data": {
      "text/plain": [
       "array([91, 56, 56, 22, 69])"
      ]
     },
     "execution_count": 9,
     "metadata": {},
     "output_type": "execute_result"
    }
   ],
   "source": [
    "rn=np.random.randint(0,100,size=5)\n",
    "rn"
   ]
  },
  {
   "cell_type": "code",
   "execution_count": 17,
   "metadata": {},
   "outputs": [
    {
     "data": {
      "text/plain": [
       "array([[4, 5, 2],\n",
       "       [4, 3, 3],\n",
       "       [2, 1, 2],\n",
       "       [2, 3, 1]])"
      ]
     },
     "execution_count": 17,
     "metadata": {},
     "output_type": "execute_result"
    }
   ],
   "source": [
    "\n",
    "m3=np.random.randint(1,6,size=(4,3))\n",
    "m3"
   ]
  },
  {
   "cell_type": "code",
   "execution_count": 19,
   "metadata": {},
   "outputs": [
    {
     "data": {
      "text/plain": [
       "3"
      ]
     },
     "execution_count": 19,
     "metadata": {},
     "output_type": "execute_result"
    }
   ],
   "source": [
    "m3[1][2]"
   ]
  },
  {
   "cell_type": "code",
   "execution_count": 24,
   "metadata": {},
   "outputs": [
    {
     "data": {
      "text/plain": [
       "array([[[1, 0, 0, 1],\n",
       "        [0, 1, 0, 0],\n",
       "        [1, 1, 1, 0]],\n",
       "\n",
       "       [[0, 1, 1, 1],\n",
       "        [1, 1, 0, 1],\n",
       "        [1, 0, 0, 1]],\n",
       "\n",
       "       [[1, 0, 1, 0],\n",
       "        [0, 0, 0, 1],\n",
       "        [0, 1, 1, 0]],\n",
       "\n",
       "       [[0, 1, 1, 0],\n",
       "        [0, 0, 1, 0],\n",
       "        [0, 0, 0, 0]]])"
      ]
     },
     "execution_count": 24,
     "metadata": {},
     "output_type": "execute_result"
    }
   ],
   "source": [
    "m3=np.random.randint(0,2,size=(4,3,4))\n",
    "m3"
   ]
  },
  {
   "cell_type": "code",
   "execution_count": 27,
   "metadata": {},
   "outputs": [
    {
     "name": "stdout",
     "output_type": "stream",
     "text": [
      "[[[[5 4 5]\n",
      "   [4 5 5]\n",
      "   [5 5 5]]\n",
      "\n",
      "  [[5 5 4]\n",
      "   [4 5 4]\n",
      "   [4 5 4]]\n",
      "\n",
      "  [[5 4 4]\n",
      "   [5 5 4]\n",
      "   [4 5 5]]]\n",
      "\n",
      "\n",
      " [[[5 5 5]\n",
      "   [5 4 4]\n",
      "   [4 4 5]]\n",
      "\n",
      "  [[4 4 4]\n",
      "   [5 5 4]\n",
      "   [4 5 5]]\n",
      "\n",
      "  [[5 4 4]\n",
      "   [4 5 4]\n",
      "   [5 5 5]]]\n",
      "\n",
      "\n",
      " [[[4 4 5]\n",
      "   [4 5 4]\n",
      "   [5 4 4]]\n",
      "\n",
      "  [[4 4 5]\n",
      "   [4 4 5]\n",
      "   [5 5 5]]\n",
      "\n",
      "  [[4 4 5]\n",
      "   [5 4 4]\n",
      "   [5 4 5]]]]\n",
      "4\n"
     ]
    }
   ],
   "source": [
    "m3=np.random.randint(4,6,size=(3,3,3,3))\n",
    "print(m3)\n",
    "print(m3[2][2][2][1])"
   ]
  },
  {
   "cell_type": "code",
   "execution_count": 34,
   "metadata": {},
   "outputs": [
    {
     "name": "stdout",
     "output_type": "stream",
     "text": [
      "4\n",
      "81\n",
      "(3, 3, 3, 3)\n",
      "int32\n",
      "4\n",
      "324\n"
     ]
    }
   ],
   "source": [
    "print(m3.ndim)\n",
    "print(m3.size)\n",
    "print(m3.shape)\n",
    "print(m3.dtype)\n",
    "print(m3.itemsize)\n",
    "print(m3.nbytes)"
   ]
  },
  {
   "cell_type": "markdown",
   "metadata": {},
   "source": [
    "### Pandas\n",
    "\n",
    "Use Cases\n",
    "\n",
    "* Data cleaning\n",
    "* Data processing\n",
    "* Data Analysis\n",
    "\n",
    "Notatations\n",
    "* Series\n",
    "* DataFrames"
   ]
  },
  {
   "cell_type": "code",
   "execution_count": 3,
   "metadata": {},
   "outputs": [
    {
     "data": {
      "text/plain": [
       "s1    15\n",
       "s2    18\n",
       "s3    12\n",
       "dtype: int64"
      ]
     },
     "execution_count": 3,
     "metadata": {},
     "output_type": "execute_result"
    }
   ],
   "source": [
    "import pandas as pd\n",
    "internal1={'s1':21,'s2':18,'s3':24}\n",
    "internal2={'s1':15,'s2':18,'s3':12}\n",
    "internal2=pd.Series(internal2)\n",
    "internal2"
   ]
  },
  {
   "cell_type": "code",
   "execution_count": 5,
   "metadata": {},
   "outputs": [
    {
     "data": {
      "text/html": [
       "<div>\n",
       "<style scoped>\n",
       "    .dataframe tbody tr th:only-of-type {\n",
       "        vertical-align: middle;\n",
       "    }\n",
       "\n",
       "    .dataframe tbody tr th {\n",
       "        vertical-align: top;\n",
       "    }\n",
       "\n",
       "    .dataframe thead th {\n",
       "        text-align: right;\n",
       "    }\n",
       "</style>\n",
       "<table border=\"1\" class=\"dataframe\">\n",
       "  <thead>\n",
       "    <tr style=\"text-align: right;\">\n",
       "      <th></th>\n",
       "      <th>Internal</th>\n",
       "      <th>Internal2</th>\n",
       "    </tr>\n",
       "  </thead>\n",
       "  <tbody>\n",
       "    <tr>\n",
       "      <th>s1</th>\n",
       "      <td>21</td>\n",
       "      <td>15</td>\n",
       "    </tr>\n",
       "    <tr>\n",
       "      <th>s2</th>\n",
       "      <td>18</td>\n",
       "      <td>18</td>\n",
       "    </tr>\n",
       "    <tr>\n",
       "      <th>s3</th>\n",
       "      <td>24</td>\n",
       "      <td>12</td>\n",
       "    </tr>\n",
       "  </tbody>\n",
       "</table>\n",
       "</div>"
      ],
      "text/plain": [
       "    Internal  Internal2\n",
       "s1        21         15\n",
       "s2        18         18\n",
       "s3        24         12"
      ]
     },
     "execution_count": 5,
     "metadata": {},
     "output_type": "execute_result"
    }
   ],
   "source": [
    "final={'Internal':internal1,'Internal2':internal2}\n",
    "final=pd.DataFrame(final)\n",
    "final"
   ]
  },
  {
   "cell_type": "code",
   "execution_count": 6,
   "metadata": {},
   "outputs": [
    {
     "data": {
      "text/plain": [
       "Index(['Internal', 'Internal2'], dtype='object')"
      ]
     },
     "execution_count": 6,
     "metadata": {},
     "output_type": "execute_result"
    }
   ],
   "source": [
    "final.columns #Names of all columns"
   ]
  },
  {
   "cell_type": "code",
   "execution_count": 7,
   "metadata": {},
   "outputs": [
    {
     "data": {
      "text/plain": [
       "array([[21, 15],\n",
       "       [18, 18],\n",
       "       [24, 12]], dtype=int64)"
      ]
     },
     "execution_count": 7,
     "metadata": {},
     "output_type": "execute_result"
    }
   ],
   "source": [
    "final.values #Lists of all rows"
   ]
  },
  {
   "cell_type": "code",
   "execution_count": 8,
   "metadata": {},
   "outputs": [
    {
     "data": {
      "text/plain": [
       "24"
      ]
     },
     "execution_count": 8,
     "metadata": {},
     "output_type": "execute_result"
    }
   ],
   "source": [
    "final.values[2,0]\n",
    "final.values[2][0]"
   ]
  },
  {
   "cell_type": "code",
   "execution_count": null,
   "metadata": {},
   "outputs": [],
   "source": [
    "for row in final.values:\n",
    "    print('Internal1'-'+row[0]+','Internal')"
   ]
  }
 ],
 "metadata": {
  "kernelspec": {
   "display_name": "Python 3",
   "language": "python",
   "name": "python3"
  },
  "language_info": {
   "codemirror_mode": {
    "name": "ipython",
    "version": 3
   },
   "file_extension": ".py",
   "mimetype": "text/x-python",
   "name": "python",
   "nbconvert_exporter": "python",
   "pygments_lexer": "ipython3",
   "version": "3.7.3"
  }
 },
 "nbformat": 4,
 "nbformat_minor": 2
}
