{
 "cells": [
  {
   "cell_type": "markdown",
   "metadata": {},
   "source": [
    "### Date:22-June-2019\n",
    "### Day Objectives\n",
    "- File Handling\n",
    "    - Basic File Data Processing\n",
    "            - Accessing and Modifiying File Data\n",
    "    - Character Count\n",
    "    - Line Count\n",
    "    - File Size\n",
    "    - Word Count\n",
    "    - Unique Word count"
   ]
  },
  {
   "cell_type": "code",
   "execution_count": 2,
   "metadata": {},
   "outputs": [
    {
     "name": "stdout",
     "output_type": "stream",
     "text": [
      "Data in line 1\n",
      "Data in line 2\n",
      "Data in line 3\n"
     ]
    }
   ],
   "source": [
    "#Read file-File should exist(read mode)\n",
    "#Write to a file-File can existing(append) or new file creating(write mode)\n",
    "def readFile(filepath):\n",
    "    with open(filepath,'r') as f:            \n",
    "        filedata=f.read()\n",
    "    return filedata\n",
    "filepath=\"DataFiles/data.txt\"\n",
    "print(readFile(filepath))\n",
    "        \n",
    "    "
   ]
  },
  {
   "cell_type": "code",
   "execution_count": 3,
   "metadata": {},
   "outputs": [
    {
     "data": {
      "text/plain": [
       "['Data in line 1', 'Data in line 2', 'Data in line 3']"
      ]
     },
     "execution_count": 3,
     "metadata": {},
     "output_type": "execute_result"
    }
   ],
   "source": [
    "def readFileIntoList(filepath):\n",
    "    with open(filepath,'r') as f:            \n",
    "        filedata=f.read()\n",
    "        lines=filedata.split('\\n')\n",
    "        #lines=[]\n",
    "        #for lines in f:\n",
    "        #lines.append(line)\n",
    "    return lines\n",
    "filepath=\"DataFiles/data.txt\"\n",
    "readFileIntoList(filepath)\n",
    "\n",
    "        \n",
    "    "
   ]
  },
  {
   "cell_type": "code",
   "execution_count": 4,
   "metadata": {},
   "outputs": [
    {
     "data": {
      "text/plain": [
       "44"
      ]
     },
     "execution_count": 4,
     "metadata": {},
     "output_type": "execute_result"
    }
   ],
   "source": [
    "def charCountFile(filepath):\n",
    "    count=len(readFile(filepath))\n",
    "    return count\n",
    "charCountFile(filepath)"
   ]
  },
  {
   "cell_type": "code",
   "execution_count": 4,
   "metadata": {},
   "outputs": [
    {
     "data": {
      "text/plain": [
       "3"
      ]
     },
     "execution_count": 4,
     "metadata": {},
     "output_type": "execute_result"
    }
   ],
   "source": [
    "import re\n",
    "def wordCountFile(filepath):\n",
    "    pattern='[ \\n]'\n",
    "    file=readFile(filepath)\n",
    "    count=len(re.split(pattern,file))\n",
    "    return count\n",
    "\n",
    "def WordsFromFile(filepath):\n",
    "    pattern='[\\n]'\n",
    "    file=readFile(filepath)\n",
    "    allWordsList=len(re.split(pattern,file))\n",
    "    return allWordsList\n",
    "WordsFromFile(filepath)\n"
   ]
  },
  {
   "cell_type": "code",
   "execution_count": 5,
   "metadata": {},
   "outputs": [
    {
     "data": {
      "text/plain": [
       "['D', 'a', 't', 'F', 'i', 'l', 'e', 's', '/', 'd', '.', 'x']"
      ]
     },
     "execution_count": 5,
     "metadata": {},
     "output_type": "execute_result"
    }
   ],
   "source": [
    "#Function to get unique elements in a list\n",
    "\n",
    "#[1,2,3,3,2,1]->[1,2,3]\n",
    "#create a empty unique list[1,2,3]\n",
    "def uniqueData(filepath):\n",
    "    #create an empty unique list\n",
    "    allwords=WordsFromFile(filepath)\n",
    "    unique=[]\n",
    "    #For every element in th main list,\n",
    "        #check if it exists in the unique list.\n",
    "        #if it doesnot exist,add it to unique list\n",
    "        #else if it already exists,move on to the next element into the main list\n",
    "    for element in filepath:\n",
    "        if element not in unique:\n",
    "            unique.append(element)\n",
    "    return unique\n",
    "#li=[1,2,3,3,2,1]\n",
    "uniqueData(filepath)"
   ]
  },
  {
   "cell_type": "code",
   "execution_count": 6,
   "metadata": {},
   "outputs": [
    {
     "ename": "TypeError",
     "evalue": "'int' object is not iterable",
     "output_type": "error",
     "traceback": [
      "\u001b[1;31m---------------------------------------------------------------------------\u001b[0m",
      "\u001b[1;31mTypeError\u001b[0m                                 Traceback (most recent call last)",
      "\u001b[1;32m<ipython-input-6-231a58b7dae7>\u001b[0m in \u001b[0;36m<module>\u001b[1;34m\u001b[0m\n\u001b[0;32m     38\u001b[0m             \u001b[0mwordFrequecny\u001b[0m\u001b[1;33m[\u001b[0m\u001b[0mword\u001b[0m\u001b[1;33m]\u001b[0m \u001b[1;33m+=\u001b[0m\u001b[1;36m1\u001b[0m\u001b[1;33m\u001b[0m\u001b[1;33m\u001b[0m\u001b[0m\n\u001b[0;32m     39\u001b[0m     \u001b[1;32mreturn\u001b[0m \u001b[0mwordFrequency\u001b[0m\u001b[1;33m\u001b[0m\u001b[1;33m\u001b[0m\u001b[0m\n\u001b[1;32m---> 40\u001b[1;33m \u001b[0mFreqDistributionOfWords2\u001b[0m\u001b[1;33m(\u001b[0m\u001b[0mfilepath\u001b[0m\u001b[1;33m)\u001b[0m\u001b[1;33m\u001b[0m\u001b[1;33m\u001b[0m\u001b[0m\n\u001b[0m\u001b[0;32m     41\u001b[0m \u001b[1;33m\u001b[0m\u001b[0m\n\u001b[0;32m     42\u001b[0m \u001b[1;33m\u001b[0m\u001b[0m\n",
      "\u001b[1;32m<ipython-input-6-231a58b7dae7>\u001b[0m in \u001b[0;36mFreqDistributionOfWords2\u001b[1;34m(filepath)\u001b[0m\n\u001b[0;32m     32\u001b[0m     \u001b[0muniquewords\u001b[0m\u001b[1;33m=\u001b[0m\u001b[0muniqueData\u001b[0m\u001b[1;33m(\u001b[0m\u001b[0mfilepath\u001b[0m\u001b[1;33m)\u001b[0m\u001b[1;33m\u001b[0m\u001b[1;33m\u001b[0m\u001b[0m\n\u001b[0;32m     33\u001b[0m     \u001b[0mwordFrequency\u001b[0m\u001b[1;33m=\u001b[0m\u001b[1;33m{\u001b[0m\u001b[1;33m}\u001b[0m\u001b[1;33m\u001b[0m\u001b[1;33m\u001b[0m\u001b[0m\n\u001b[1;32m---> 34\u001b[1;33m     \u001b[1;32mfor\u001b[0m \u001b[0mword\u001b[0m \u001b[1;32min\u001b[0m \u001b[0mallwordslist\u001b[0m\u001b[1;33m:\u001b[0m\u001b[1;33m\u001b[0m\u001b[1;33m\u001b[0m\u001b[0m\n\u001b[0m\u001b[0;32m     35\u001b[0m         \u001b[1;32mif\u001b[0m \u001b[0mword\u001b[0m \u001b[1;32mnot\u001b[0m \u001b[1;32min\u001b[0m \u001b[0mwordFrequnecy\u001b[0m\u001b[1;33m.\u001b[0m\u001b[0mkeys\u001b[0m\u001b[1;33m(\u001b[0m\u001b[1;33m)\u001b[0m\u001b[1;33m:\u001b[0m\u001b[1;33m\u001b[0m\u001b[1;33m\u001b[0m\u001b[0m\n\u001b[0;32m     36\u001b[0m             \u001b[0mwordFrequency\u001b[0m\u001b[1;33m[\u001b[0m\u001b[0mword\u001b[0m\u001b[1;33m]\u001b[0m\u001b[1;33m=\u001b[0m\u001b[1;36m1\u001b[0m\u001b[1;33m\u001b[0m\u001b[1;33m\u001b[0m\u001b[0m\n",
      "\u001b[1;31mTypeError\u001b[0m: 'int' object is not iterable"
     ]
    }
   ],
   "source": [
    "#Function to print the frequency count of all words in a file\n",
    "#Frequency Distribution \n",
    "\n",
    "#Data in line 1\n",
    "#Data in line 2\n",
    "#Data in line 3\n",
    "#O/P\n",
    "#Data:3\n",
    "#in:3\n",
    "#Line:3\n",
    "#1:1\n",
    "#2:1\n",
    "#3:1\n",
    "def FreqDistributionOfWords1(filepath):\n",
    "  #Dictionary to be used\n",
    "    #Keys->unique words\n",
    "    #Values->count of unique words\n",
    " #Two lists\n",
    "    #AllWords list\n",
    "    #UniqueWords list\n",
    "#Set\n",
    "    allwords=WordsFromFile(filepath)\n",
    "    uniquewords=uniqueData(filepath)\n",
    "    for word in uniquewords:\n",
    "        count=allwords.count(words)\n",
    "        print(word,':',count)\n",
    "    return\n",
    "\n",
    "\n",
    "def FreqDistributionOfWords2(filepath):\n",
    "    allwordslist=WordsFromFile(filepath)\n",
    "    uniquewords=uniqueData(filepath)\n",
    "    wordFrequency={}\n",
    "    for word in allwordslist:\n",
    "        if word not in wordFrequnecy.keys():\n",
    "            wordFrequency[word]=1\n",
    "        else:\n",
    "            wordFrequecny[word] +=1\n",
    "    return wordFrequency\n",
    "FreqDistributionOfWords2(filepath)\n",
    "\n",
    "\n",
    "    "
   ]
  },
  {
   "cell_type": "code",
   "execution_count": 22,
   "metadata": {},
   "outputs": [
    {
     "data": {
      "text/plain": [
       "[1, 2, 3]"
      ]
     },
     "execution_count": 22,
     "metadata": {},
     "output_type": "execute_result"
    }
   ],
   "source": [
    "#Function to get unique elements in a list\n",
    "\n",
    "#[1,2,3,3,2,1]->[1,2,3]\n",
    "#create a empty unique list[1,2,3]\n",
    "def uniqueData(li):\n",
    "    #create an empty unique list\n",
    "    unique=[]\n",
    "    #For every element in th main list,\n",
    "        #check if it exists in the unique list.\n",
    "        #if it doesnot exist,add it to unique list\n",
    "        #else if it already exists,move on to the next element into the main list\n",
    "    for element in li:\n",
    "        if element not in unique:\n",
    "            unique.append(element)\n",
    "    return unique\n",
    "li=[1,2,3,3,2,1]\n",
    "uniqueData(li)"
   ]
  },
  {
   "cell_type": "code",
   "execution_count": 29,
   "metadata": {},
   "outputs": [
    {
     "data": {
      "text/plain": [
       "['data', 'sri', 'luky', 'bathula', 'lucky', '']"
      ]
     },
     "execution_count": 29,
     "metadata": {},
     "output_type": "execute_result"
    }
   ],
   "source": [
    "#Function to count the number of unique words.\n",
    "def uniqueData(filepath):\n",
    "    unique=[]\n",
    "    for element in readFileIntoList(filepath):\n",
    "        if element not in unique:\n",
    "            unique.append(element)\n",
    "    return unique\n",
    "\n",
    "uniqueData(filepath)\n",
    "\n",
    "    "
   ]
  },
  {
   "cell_type": "code",
   "execution_count": 45,
   "metadata": {},
   "outputs": [
    {
     "name": "stdout",
     "output_type": "stream",
     "text": [
      "Data in line 1 : 1\n",
      "Data in line 2 : 1\n",
      "Data in line 3 : 1\n"
     ]
    }
   ],
   "source": [
    "#Function to print the frequency count of all words in a file\n",
    "#Frequency Distribution \n",
    "\n",
    "#Data in line 1\n",
    "#Data in line 2\n",
    "#Data in line 3\n",
    "#O/P\n",
    "#Data:3\n",
    "#in:3\n",
    "#Line:3\n",
    "#1:1\n",
    "#2:1\n",
    "#3:1\n",
    "def frequency(filepath):\n",
    "    c=uniqueData(filepath)\n",
    "    for j in c:\n",
    "        count=0\n",
    "        for i in readFileIntoList(filepath):\n",
    "            if j==i:\n",
    "                count=count+1\n",
    "        print(j,\":\",count)\n",
    "frequency(filepath)\n",
    "\n",
    "    "
   ]
  },
  {
   "cell_type": "code",
   "execution_count": 14,
   "metadata": {},
   "outputs": [
    {
     "data": {
      "text/plain": [
       "'data is inserted'"
      ]
     },
     "execution_count": 14,
     "metadata": {},
     "output_type": "execute_result"
    }
   ],
   "source": [
    "def writeFile(filepath,filedata):\n",
    "    with open(filepath,'w') as f:\n",
    "        f.write(filedata)\n",
    "    return filedata\n",
    "filepath=\"DataFiles/data.txt\"\n",
    "writeFile(filepath,\"data is inserted\")\n"
   ]
  },
  {
   "cell_type": "code",
   "execution_count": 19,
   "metadata": {},
   "outputs": [
    {
     "data": {
      "text/plain": [
       "'data is added to a file'"
      ]
     },
     "execution_count": 19,
     "metadata": {},
     "output_type": "execute_result"
    }
   ],
   "source": [
    "def appendData(filepath,filedata):\n",
    "    with open(filepath,'a') as f:\n",
    "        f.write(filedata)\n",
    "    return filedata\n",
    "filedata=\"data is added to a file\"\n",
    "filepath=\"DataFiles/data.txt\"\n",
    "appendData(filepath,filedata)\n",
    "        "
   ]
  },
  {
   "cell_type": "code",
   "execution_count": 37,
   "metadata": {},
   "outputs": [
    {
     "name": "stdout",
     "output_type": "stream",
     "text": [
      "68\n",
      "85\n"
     ]
    },
    {
     "data": {
      "text/plain": [
       "'data is inserteddata is added to a filedata is added to a filedata is added to a file'"
      ]
     },
     "execution_count": 37,
     "metadata": {},
     "output_type": "execute_result"
    }
   ],
   "source": [
    "def readFile(filepath):\n",
    "    with open(filepath,'r') as f:            \n",
    "        filedata=f.read()\n",
    "        lines = 0\n",
    "        words = 0\n",
    "        characters = 0\n",
    "        for line in filedata:\n",
    "            wordslist = line.split()\n",
    "            lines = lines + 1\n",
    "            words = words + len(wordslist)\n",
    "            characters = characters + len(line)\n",
    "        print(words)\n",
    "        print(characters)\n",
    "            \n",
    "    return filedata\n",
    "filepath=\"DataFiles/data.txt\"\n",
    "readFile(filepath)\n",
    "        \n",
    "            \n",
    "            "
   ]
  },
  {
   "cell_type": "code",
   "execution_count": null,
   "metadata": {},
   "outputs": [],
   "source": [
    "with open(\"sample.txt\",\"r\") as fh:\n",
    "    lineno=1\n",
    "    lines=fh.readlines()\n",
    "    fw=open(\"sample.txt\",\"w\")\n",
    "    for line in lines:\n",
    "        print(lineno,line,end=\"\",sep=\".\",file=fw)\n",
    "        lineno+=1\n",
    "    fw.close()"
   ]
  },
  {
   "cell_type": "code",
   "execution_count": 10,
   "metadata": {},
   "outputs": [
    {
     "name": "stdout",
     "output_type": "stream",
     "text": [
      "5\n",
      "1 2 3 4 5\n",
      "1\n",
      "2\n",
      "3\n",
      "4\n",
      "5\n"
     ]
    }
   ],
   "source": [
    "n=int(input())\n",
    "s=map(int,input().split())\n",
    "c=0\n",
    "for i in s:\n",
    "    if()\n",
    "    \n"
   ]
  },
  {
   "cell_type": "code",
   "execution_count": null,
   "metadata": {},
   "outputs": [],
   "source": [
    "def elementCount(L,e):\n",
    "    c=0\n",
    "    for i in L:\n",
    "        if i==e:\n",
    "            c=c+1\n",
    "    return c\n",
    "n=int(input())\n",
    "L=list(map(int,input().split()))\n",
    "q=int(input())\n",
    "for i in range(q):\n",
    "    e=int(input())\n",
    "    check=elementCount(L,e)\n",
    "    if check==0:\n",
    "        print('NOT PRSENT')\n",
    "    else:\n",
    "        print(check)\n",
    "        "
   ]
  },
  {
   "cell_type": "code",
   "execution_count": 13,
   "metadata": {},
   "outputs": [
    {
     "data": {
      "text/plain": [
       "{1: 3, 2: 2, 0: 1}"
      ]
     },
     "execution_count": 13,
     "metadata": {},
     "output_type": "execute_result"
    }
   ],
   "source": [
    "#1 1 1 2 2 0\n",
    "#{1:3,2:2,0:1}\n",
    "L=[1 ,1 ,1 ,2, 2, 0]\n",
    "d={}\n",
    "for i in L:\n",
    "    if i in d:\n",
    "        d[i] +=1\n",
    "    else:\n",
    "        d[i]=1\n",
    "d\n",
    "    "
   ]
  },
  {
   "cell_type": "code",
   "execution_count": 14,
   "metadata": {},
   "outputs": [
    {
     "data": {
      "text/plain": [
       "{0: 1, 1: 3, 2: 2}"
      ]
     },
     "execution_count": 14,
     "metadata": {},
     "output_type": "execute_result"
    }
   ],
   "source": [
    "d1={}\n",
    "for i in set(L):\n",
    "    d1[i]=L.count(i)\n",
    "d1"
   ]
  },
  {
   "cell_type": "code",
   "execution_count": null,
   "metadata": {},
   "outputs": [],
   "source": [
    "#Function to print the frequency count of all words in a file\n",
    "#Frequency Distribution \n",
    "\n",
    "#Data in line 1\n",
    "#Data in line 2\n",
    "#Data in line 3\n",
    "#O/P\n",
    "#Data:3\n",
    "#in:3\n",
    "#Line:3\n",
    "#1:1\n",
    "#2:1\n",
    "#3:1\n",
    "def FreqDistributionOfWords1(filepath):\n",
    "  #Dictionary to be used\n",
    "    #Keys->unique words\n",
    "    #Values->count of unique words\n",
    " #Two lists\n",
    "    #AllWords list\n",
    "    #UniqueWords list\n",
    "    \n",
    " #Set \n",
    "\n",
    "    "
   ]
  },
  {
   "cell_type": "code",
   "execution_count": null,
   "metadata": {},
   "outputs": [],
   "source": [
    "#Contact Application\n",
    "#Add,Search,List,Modify,Delete contacts\n",
    "#Find And Replace\n",
    "    #Count the total number of occurances of a word\n",
    "    #If word is existing \n",
    "    #Replace all occurences of a word with another word\n",
    "#Marks Analysis Application\n",
    "    #Generate marks file for n students\n",
    "    #Input:Marks text File-each line contains marks of one student\n",
    "    #Generates a report with the following information\n",
    "        #Class Avergae\n",
    "        # %of students passed\n",
    "        # %0f students failed\n",
    "        # %of students with distinction\n",
    "        \n",
    "        \n"
   ]
  },
  {
   "cell_type": "code",
   "execution_count": 10,
   "metadata": {},
   "outputs": [],
   "source": [
    "#Function to generate marks data for n students\n",
    "from random import randint\n",
    "def generateMarks(n,lb,ub):\n",
    "    with open('DataFiles/marks.txt','w') as f:\n",
    "        for i in range(0,n):\n",
    "            r=randint(lb,ub)\n",
    "            f.write(str(r)+'\\n')\n",
    "    return\n",
    "generateMarks(1000,0,100)\n",
    "\n",
    "\n",
    "\n",
    "    \n",
    "    "
   ]
  },
  {
   "cell_type": "code",
   "execution_count": 20,
   "metadata": {},
   "outputs": [
    {
     "name": "stdout",
     "output_type": "stream",
     "text": [
      "True\n",
      "True\n"
     ]
    },
    {
     "ename": "ValueError",
     "evalue": "invalid literal for int() with base 10: '\\n'",
     "output_type": "error",
     "traceback": [
      "\u001b[1;31m---------------------------------------------------------------------------\u001b[0m",
      "\u001b[1;31mValueError\u001b[0m                                Traceback (most recent call last)",
      "\u001b[1;32m<ipython-input-20-4db23cc69427>\u001b[0m in \u001b[0;36m<module>\u001b[1;34m\u001b[0m\n\u001b[0;32m      7\u001b[0m             \u001b[1;32mif\u001b[0m \u001b[0mint\u001b[0m\u001b[1;33m(\u001b[0m\u001b[0mi\u001b[0m\u001b[1;33m)\u001b[0m\u001b[1;33m>=\u001b[0m\u001b[0mlb\u001b[0m \u001b[1;32mand\u001b[0m \u001b[0mint\u001b[0m\u001b[1;33m(\u001b[0m\u001b[0mi\u001b[0m\u001b[1;33m)\u001b[0m\u001b[1;33m<=\u001b[0m\u001b[0mub\u001b[0m\u001b[1;33m:\u001b[0m\u001b[1;33m\u001b[0m\u001b[1;33m\u001b[0m\u001b[0m\n\u001b[0;32m      8\u001b[0m                 \u001b[0mprint\u001b[0m\u001b[1;33m(\u001b[0m\u001b[1;34m\"True\"\u001b[0m\u001b[1;33m)\u001b[0m\u001b[1;33m\u001b[0m\u001b[1;33m\u001b[0m\u001b[0m\n\u001b[1;32m----> 9\u001b[1;33m \u001b[0mStudentsAverage\u001b[0m\u001b[1;33m(\u001b[0m\u001b[1;36m1\u001b[0m\u001b[1;33m,\u001b[0m\u001b[1;36m10\u001b[0m\u001b[1;33m)\u001b[0m\u001b[1;33m\u001b[0m\u001b[1;33m\u001b[0m\u001b[0m\n\u001b[0m",
      "\u001b[1;32m<ipython-input-20-4db23cc69427>\u001b[0m in \u001b[0;36mStudentsAverage\u001b[1;34m(lb, ub)\u001b[0m\n\u001b[0;32m      5\u001b[0m         \u001b[0mfiledata\u001b[0m\u001b[1;33m=\u001b[0m\u001b[0mf\u001b[0m\u001b[1;33m.\u001b[0m\u001b[0mread\u001b[0m\u001b[1;33m(\u001b[0m\u001b[1;33m)\u001b[0m\u001b[1;33m\u001b[0m\u001b[1;33m\u001b[0m\u001b[0m\n\u001b[0;32m      6\u001b[0m         \u001b[1;32mfor\u001b[0m \u001b[0mi\u001b[0m \u001b[1;32min\u001b[0m \u001b[0mfiledata\u001b[0m\u001b[1;33m:\u001b[0m\u001b[1;33m\u001b[0m\u001b[1;33m\u001b[0m\u001b[0m\n\u001b[1;32m----> 7\u001b[1;33m             \u001b[1;32mif\u001b[0m \u001b[0mint\u001b[0m\u001b[1;33m(\u001b[0m\u001b[0mi\u001b[0m\u001b[1;33m)\u001b[0m\u001b[1;33m>=\u001b[0m\u001b[0mlb\u001b[0m \u001b[1;32mand\u001b[0m \u001b[0mint\u001b[0m\u001b[1;33m(\u001b[0m\u001b[0mi\u001b[0m\u001b[1;33m)\u001b[0m\u001b[1;33m<=\u001b[0m\u001b[0mub\u001b[0m\u001b[1;33m:\u001b[0m\u001b[1;33m\u001b[0m\u001b[1;33m\u001b[0m\u001b[0m\n\u001b[0m\u001b[0;32m      8\u001b[0m                 \u001b[0mprint\u001b[0m\u001b[1;33m(\u001b[0m\u001b[1;34m\"True\"\u001b[0m\u001b[1;33m)\u001b[0m\u001b[1;33m\u001b[0m\u001b[1;33m\u001b[0m\u001b[0m\n\u001b[0;32m      9\u001b[0m \u001b[0mStudentsAverage\u001b[0m\u001b[1;33m(\u001b[0m\u001b[1;36m1\u001b[0m\u001b[1;33m,\u001b[0m\u001b[1;36m10\u001b[0m\u001b[1;33m)\u001b[0m\u001b[1;33m\u001b[0m\u001b[1;33m\u001b[0m\u001b[0m\n",
      "\u001b[1;31mValueError\u001b[0m: invalid literal for int() with base 10: '\\n'"
     ]
    }
   ],
   "source": [
    "def StudentsAverage(lb,ub):\n",
    "    sum=0\n",
    "    count=0\n",
    "    with open('DataFiles/marks.txt','r') as f:\n",
    "        filedata=f.read()\n",
    "        for i in filedata:\n",
    "            if int(i)>=lb and int(i)<=ub:\n",
    "                print(\"True\")\n",
    "StudentsAverage(1,10)\n"
   ]
  },
  {
   "cell_type": "code",
   "execution_count": null,
   "metadata": {},
   "outputs": [],
   "source": [
    "        for i in filedata:\n",
    "            if int(i)>=lb and int(i)<=ub:\n",
    "                sum=sum+int(i)\n",
    "                count=count+1\n",
    "        print(sum/count)\n",
    "StudentsAverage(1,10)\n"
   ]
  },
  {
   "cell_type": "code",
   "execution_count": 9,
   "metadata": {},
   "outputs": [
    {
     "ename": "TypeError",
     "evalue": "'int' object is not iterable",
     "output_type": "error",
     "traceback": [
      "\u001b[1;31m---------------------------------------------------------------------------\u001b[0m",
      "\u001b[1;31mTypeError\u001b[0m                                 Traceback (most recent call last)",
      "\u001b[1;32m<ipython-input-9-54405d63086d>\u001b[0m in \u001b[0;36m<module>\u001b[1;34m\u001b[0m\n\u001b[0;32m     43\u001b[0m    \u001b[1;32mreturn\u001b[0m \u001b[0mwordFrequency\u001b[0m\u001b[1;33m\u001b[0m\u001b[1;33m\u001b[0m\u001b[0m\n\u001b[0;32m     44\u001b[0m \u001b[1;33m\u001b[0m\u001b[0m\n\u001b[1;32m---> 45\u001b[1;33m \u001b[0mFreqDistributionOfWords2\u001b[0m\u001b[1;33m(\u001b[0m\u001b[0mfilepath\u001b[0m\u001b[1;33m)\u001b[0m\u001b[1;33m\u001b[0m\u001b[1;33m\u001b[0m\u001b[0m\n\u001b[0m",
      "\u001b[1;32m<ipython-input-9-54405d63086d>\u001b[0m in \u001b[0;36mFreqDistributionOfWords2\u001b[1;34m(filepath)\u001b[0m\n\u001b[0;32m     36\u001b[0m    \u001b[0mwordFrequency\u001b[0m \u001b[1;33m=\u001b[0m \u001b[1;33m{\u001b[0m\u001b[1;33m}\u001b[0m\u001b[1;33m\u001b[0m\u001b[1;33m\u001b[0m\u001b[0m\n\u001b[0;32m     37\u001b[0m \u001b[1;33m\u001b[0m\u001b[0m\n\u001b[1;32m---> 38\u001b[1;33m    \u001b[1;32mfor\u001b[0m \u001b[0mword\u001b[0m \u001b[1;32min\u001b[0m \u001b[0mallwords\u001b[0m\u001b[1;33m:\u001b[0m\u001b[1;33m\u001b[0m\u001b[1;33m\u001b[0m\u001b[0m\n\u001b[0m\u001b[0;32m     39\u001b[0m        \u001b[1;32mif\u001b[0m \u001b[0mword\u001b[0m \u001b[1;32mnot\u001b[0m \u001b[1;32min\u001b[0m \u001b[0mwordFrequency\u001b[0m\u001b[1;33m.\u001b[0m\u001b[0mkeys\u001b[0m\u001b[1;33m(\u001b[0m\u001b[1;33m)\u001b[0m\u001b[1;33m:\u001b[0m\u001b[1;33m\u001b[0m\u001b[1;33m\u001b[0m\u001b[0m\n\u001b[0;32m     40\u001b[0m            \u001b[0mwordFrequency\u001b[0m\u001b[1;33m[\u001b[0m\u001b[0mword\u001b[0m\u001b[1;33m]\u001b[0m \u001b[1;33m=\u001b[0m \u001b[1;36m1\u001b[0m\u001b[1;33m\u001b[0m\u001b[1;33m\u001b[0m\u001b[0m\n",
      "\u001b[1;31mTypeError\u001b[0m: 'int' object is not iterable"
     ]
    }
   ],
   "source": [
    " #Function to print the frequency count of all words in a file\n",
    "# Frequency Distribution\n",
    "\n",
    "# Data in Line 1\n",
    "# Data in Line 2\n",
    "# Data in Line 3\n",
    "# O/P\n",
    "# Data : 3\n",
    "# in : 3\n",
    "# Line : 3\n",
    "# 1 : 1\n",
    "# 2 : 1\n",
    "# 3 : 1\n",
    "\n",
    "def FreqDistributionOfWords1(filepath):\n",
    "    # Dictionary to be used\n",
    "        # Keys -> unique words\n",
    "        # Values -> count of unique words\n",
    "        \n",
    "    # Two lists\n",
    "        # AllWords list - \n",
    "        # UniqueWords list - \n",
    "        \n",
    "    # Set\n",
    "    allwords = wordsFromFile(filepath)\n",
    "    uniquewords = uniqueData(filepath)\n",
    "    \n",
    "    for word in uniquewords:\n",
    "        count = allwords.count(word)\n",
    "        print(word,':',count)\n",
    "\n",
    "    return\n",
    "\n",
    "def FreqDistributionOfWords2(filepath):\n",
    "    allwords = WordsFromFile(filepath)\n",
    "    wordFrequency = {}\n",
    "    \n",
    "    for word in allwords:\n",
    "        if word not in wordFrequency.keys():\n",
    "            wordFrequency[word] = 1\n",
    "        else:\n",
    "            wordFrequency[word] += 1\n",
    "    return wordFrequency\n",
    "\n",
    "FreqDistributionOfWords2(filepath)"
   ]
  },
  {
   "cell_type": "code",
   "execution_count": null,
   "metadata": {},
   "outputs": [],
   "source": []
  }
 ],
 "metadata": {
  "kernelspec": {
   "display_name": "Python 3",
   "language": "python",
   "name": "python3"
  },
  "language_info": {
   "codemirror_mode": {
    "name": "ipython",
    "version": 3
   },
   "file_extension": ".py",
   "mimetype": "text/x-python",
   "name": "python",
   "nbconvert_exporter": "python",
   "pygments_lexer": "ipython3",
   "version": "3.7.3"
  }
 },
 "nbformat": 4,
 "nbformat_minor": 2
}
