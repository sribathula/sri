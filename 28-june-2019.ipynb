{
 "cells": [
  {
   "cell_type": "markdown",
   "metadata": {},
   "source": [
    "# Date:28-june-2019\n",
    "\n",
    "### Day Objectives:\n",
    "* Maps\n",
    "* Lambda\n",
    "* Filter\n",
    "* Use cases-File/Data Encryption"
   ]
  },
  {
   "cell_type": "markdown",
   "metadata": {},
   "source": [
    "### Map\n",
    "\n",
    "Mapping-Entity with Function\n",
    "\n",
    "f:x^2\n",
    "[1,10]\n",
    "\n",
    "y=f(x)\n",
    "\n",
    "* x   y\n",
    "* 1   1\n",
    "* 2   4\n",
    "* 3   9\n",
    "* 4   16\n",
    "* 5   25\n",
    "* 6   36\n",
    "* 7   49\n",
    "* 8   64\n",
    "* 9   81\n",
    "* 10  100\n",
    "\n",
    "\n",
    "map(function,Iterable)"
   ]
  },
  {
   "cell_type": "code",
   "execution_count": 3,
   "metadata": {},
   "outputs": [
    {
     "data": {
      "text/plain": [
       "32"
      ]
     },
     "execution_count": 3,
     "metadata": {},
     "output_type": "execute_result"
    }
   ],
   "source": [
    "def powerN(a,n):\n",
    "    #return a**n\n",
    "    r=1\n",
    "    for i in range(n):\n",
    "        r*=a\n",
    "    return r\n",
    "powerN(2,5)\n",
    "        \n",
    "        "
   ]
  },
  {
   "cell_type": "code",
   "execution_count": 5,
   "metadata": {},
   "outputs": [
    {
     "data": {
      "text/plain": [
       "1024"
      ]
     },
     "execution_count": 5,
     "metadata": {},
     "output_type": "execute_result"
    }
   ],
   "source": [
    "def recursivePowerN(a,n):\n",
    "    if n==0:\n",
    "        return 1\n",
    "    else:\n",
    "        return a*recursivePowerN(a,n-1)\n",
    "recursivePowerN(2,10)"
   ]
  },
  {
   "cell_type": "code",
   "execution_count": 13,
   "metadata": {},
   "outputs": [
    {
     "data": {
      "text/plain": [
       "{1, 8, 27, 64, 125, 216}"
      ]
     },
     "execution_count": 13,
     "metadata": {},
     "output_type": "execute_result"
    }
   ],
   "source": [
    "def cube(n):\n",
    "    return n**3\n",
    "li=[1,2,3,4,5,6]\n",
    "set((map(cube,li)))"
   ]
  },
  {
   "cell_type": "code",
   "execution_count": 41,
   "metadata": {},
   "outputs": [
    {
     "data": {
      "text/plain": [
       "[1, 8, 27, 64, 125, 216]"
      ]
     },
     "execution_count": 41,
     "metadata": {},
     "output_type": "execute_result"
    }
   ],
   "source": [
    "def cube(n):\n",
    "    return n**3\n",
    "li=['1','2','3','4','5','6']\n",
    "list((map(int,li)))\n",
    "list((map(str,li)))\n",
    "numbers=[int(i) for i in li]\n",
    "[cube(i) for i in  numbers]"
   ]
  },
  {
   "cell_type": "code",
   "execution_count": 19,
   "metadata": {},
   "outputs": [
    {
     "data": {
      "text/plain": [
       "['1', '2', '3', '4', '5', '6']"
      ]
     },
     "execution_count": 19,
     "metadata": {},
     "output_type": "execute_result"
    }
   ],
   "source": [
    "li=['1','2','3','4','5','6']\n",
    "list((map(int,li)))\n",
    "list((map(str,li)))\n"
   ]
  },
  {
   "cell_type": "markdown",
   "metadata": {},
   "source": [
    "### Filter \n",
    "Used to check boolean values\n",
    "\n",
    "f:x->{T,F}\n",
    "y is a subset of x\n",
    "\n",
    "* x y\n",
    "* 1\n",
    "* 2 2\n",
    "* 3 3\n",
    "* 4 \n",
    "* 5 5\n",
    "\n"
   ]
  },
  {
   "cell_type": "code",
   "execution_count": 28,
   "metadata": {},
   "outputs": [
    {
     "data": {
      "text/plain": [
       "[1, 2, 3]"
      ]
     },
     "execution_count": 28,
     "metadata": {},
     "output_type": "execute_result"
    }
   ],
   "source": [
    "li=[1,2,'a','b','c',3]\n",
    "def isDigit(c):\n",
    "    c=str(c)\n",
    "    if c.isdigit():\n",
    "        return True\n",
    "    return False\n",
    "isDigit('a')\n",
    "list(filter(isDigit,li))\n",
    "    \n",
    "#filter()"
   ]
  },
  {
   "cell_type": "code",
   "execution_count": 26,
   "metadata": {},
   "outputs": [
    {
     "data": {
      "text/plain": [
       "['a', 'b', 'c']"
      ]
     },
     "execution_count": 26,
     "metadata": {},
     "output_type": "execute_result"
    }
   ],
   "source": [
    "li=[1,2,'a','b','c',3]\n",
    "def isalpha(c):\n",
    "    c=str(c)\n",
    "    if c.isalpha():\n",
    "        return True\n",
    "    return False\n",
    "isalpha('a')\n",
    "list(filter(isalpha,li))"
   ]
  },
  {
   "cell_type": "code",
   "execution_count": 38,
   "metadata": {},
   "outputs": [
    {
     "name": "stdout",
     "output_type": "stream",
     "text": [
      "[2, 3, 5, 7]\n",
      "[2, 3, 5, 7]\n"
     ]
    }
   ],
   "source": [
    "# Identify all Primes in a range\n",
    "def checkprime(n):\n",
    "    if n<2:\n",
    "        return False\n",
    "    for i in range(2,n//2+1):\n",
    "        if n%i==0:\n",
    "            return False\n",
    "    return True\n",
    "lb,ub=1,10\n",
    "primeList=list(filter(checkprime,range(lb,ub)))\n",
    "primeList\n",
    "\n",
    "\n",
    "primeList2=[i for i in range(lb,ub+1) if checkprime(i)]\n",
    "\n",
    "#Map fails because it doesnot apply for checking\n",
    "print(primeList2)\n",
    "print(primeList)"
   ]
  },
  {
   "cell_type": "markdown",
   "metadata": {},
   "source": [
    " ### Lambda \n",
    " \n",
    "* Anonymous Functions\n",
    " \n",
    "* can be embedded into List Comprehension,Maps,Filters"
   ]
  },
  {
   "cell_type": "code",
   "execution_count": 49,
   "metadata": {},
   "outputs": [
    {
     "data": {
      "text/plain": [
       "[1, 3, 5]"
      ]
     },
     "execution_count": 49,
     "metadata": {},
     "output_type": "execute_result"
    }
   ],
   "source": [
    "a=lambda x:x**3\n",
    "list(map(lambda x:x**3,[1,2,3,4,5,6]))\n",
    "list(filter(lambda x:(x%2==0),[1,2,3,4,5,6]))\n",
    "list(filter(lambda x:(x%2!=0),[1,2,3,4,5,6]))"
   ]
  },
  {
   "cell_type": "code",
   "execution_count": 60,
   "metadata": {},
   "outputs": [
    {
     "data": {
      "text/plain": [
       "[7, 11, 13, 8, 12, 6, 18, 12, 17, 11]"
      ]
     },
     "execution_count": 60,
     "metadata": {},
     "output_type": "execute_result"
    }
   ],
   "source": [
    "from random import randint\n",
    "internal1=[randint(0,25) for i in range(10)]\n",
    "internal2=[randint(0,25) for i in range (10)]\n",
    "\n",
    "averageInternal=list(map(lambda x,y:(x+y)//2,internal1,internal2))\n",
    "averageInternal\n"
   ]
  },
  {
   "cell_type": "code",
   "execution_count": null,
   "metadata": {},
   "outputs": [],
   "source": [
    "from random import randint\n",
    "width=int(input())\n",
    "height=int(input())\n",
    "w1=[randint(0,20) for i in range(width)]\n",
    "h2=[randint(0,20) for i in range(height)]\n",
    "averageInternal=list(map(lambda x,y:bytearray(x*y),internal1,internal2))\n",
    "averageInternal\n"
   ]
  },
  {
   "cell_type": "code",
   "execution_count": null,
   "metadata": {},
   "outputs": [],
   "source": [
    "\n",
    "def dictionaryKeyFIle(keyfile):\n",
    "    key={}\n",
    "    with open(keyfile,'r') as f:\n",
    "        for line in f:\n",
    "            line=line.split()\n",
    "            \n",
    "\n",
    "\n",
    "\n",
    "\n",
    "\n",
    "\n",
    "\n",
    "\n",
    "\n",
    "\n",
    "#dictionaryKayFile(keyfile)\n",
    "def encryptMarksData(datafile,keyfile):\n",
    "    #construct a dictionary for key data\n",
    "    key=dictionaryKeyFile(keyfile)\n",
    "    with open(datafile,'r') as f:\n",
    "        filedata=f.read().split('\\n')\n",
    "    with open('DataFiles/EncryptMarks.txt','w') as f:\n",
    "        for mark in filedata:\n",
    "            line=' '\n",
    "            for n in mark:\n",
    "                line +=key[n]\n",
    "            f.write(line+'\\n')\n",
    "    return\n",
    "datafile='DataFiles/marks.txt'\n",
    "encryptMarksData(datafile,keyfile)"
   ]
  },
  {
   "cell_type": "code",
   "execution_count": null,
   "metadata": {},
   "outputs": [],
   "source": [
    "#Function to decrypt an encrpted file\n",
    "\n",
    "def decryptMarksData(encrpytedfile,keyfile):\n",
    "    key=dictionaryKeyFile(keyfile)\n",
    "    key=key.items()\n",
    "    newkey={}\n",
    "    for key,value in key.items():\n",
    "        new[value]=key\n",
    "    with open(encryptedfile,'r') as f:\n",
    "        encrypteddata=f.read().split('\\n')\n",
    "    with open('DataFiles/decrypedMarks.txt','w') as f:\n",
    "        line=' '\n",
    "        for encryptedmark in encrypteddata:\n",
    "            line=' '\n",
    "            for n in encryptedmark:\n",
    "                line += newkey[n]\n",
    "                \n",
    "                \n",
    "                \n",
    "    "
   ]
  },
  {
   "cell_type": "code",
   "execution_count": null,
   "metadata": {},
   "outputs": [],
   "source": [
    "# Comprehensions \n",
    "keyfile='DataFiles/key.txt'\n",
    "key=dictionaryKeyFile(keyfile)\n",
    "evenkeys={item for item in key.items() if int(item[0])%2==0}\n",
    "evenkeys\n",
    "\n"
   ]
  },
  {
   "cell_type": "code",
   "execution_count": null,
   "metadata": {},
   "outputs": [],
   "source": []
  }
 ],
 "metadata": {
  "kernelspec": {
   "display_name": "Python 3",
   "language": "python",
   "name": "python3"
  },
  "language_info": {
   "codemirror_mode": {
    "name": "ipython",
    "version": 3
   },
   "file_extension": ".py",
   "mimetype": "text/x-python",
   "name": "python",
   "nbconvert_exporter": "python",
   "pygments_lexer": "ipython3",
   "version": "3.7.3"
  }
 },
 "nbformat": 4,
 "nbformat_minor": 2
}
